{
 "cells": [
  {
   "cell_type": "markdown",
   "id": "369beda3-3148-41e9-95d6-9c500a6937bc",
   "metadata": {
    "tags": []
   },
   "source": [
    "# Zillow Prediction 2017\n",
    "## Goals:\n",
    "* Construct an ML Regression model that predicts propery tax assessed values ('taxvaluedollarcnt') of Single Family Properties using attributes of the properties.\n",
    "\n",
    "* Deliver a report that the data science team can read through and replicate, understand what steps were taken, why and what the outcome was.\n",
    "\n",
    "* Make recommendations on what works or doesn't work in predicting these homes' values.\n",
    "\n",
    "* Other key drivers:"
   ]
  },
  {
   "cell_type": "markdown",
   "id": "e2ae75ee-f29c-407a-9385-ae9d2ebfdd95",
   "metadata": {},
   "source": [
    "## Imports"
   ]
  },
  {
   "cell_type": "code",
   "execution_count": 1,
   "id": "8f2f4db2-a71c-4e2a-a1eb-f06558b73967",
   "metadata": {},
   "outputs": [],
   "source": [
    "# necessary imports\n",
    "import numpy as np\n",
    "import os\n",
    "import seaborn as sns\n",
    "import scipy.stats as stat\n",
    "from scipy.stats import pearsonr\n",
    "from scipy.stats import pointbiserialr\n",
    "import pandas as pd\n",
    "import matplotlib.pyplot as plt\n",
    "from pydataset import data\n",
    "import warnings\n",
    "warnings.filterwarnings(\"ignore\")\n",
    "\n",
    "import wrangle as wra\n",
    "import env\n",
    "import explore as exp\n",
    "import evaluate as ev\n",
    "\n",
    "from sklearn.neighbors import KNeighborsClassifier\n",
    "from sklearn.preprocessing import MinMaxScaler\n",
    "from sklearn.preprocessing import StandardScaler\n",
    "from sklearn.preprocessing import RobustScaler\n",
    "from sklearn.preprocessing import QuantileTransformer\n",
    "\n",
    "from sklearn.model_selection import train_test_split\n",
    "from sklearn.metrics import mean_squared_error, r2_score, explained_variance_score\n",
    "from sklearn.linear_model import LinearRegression\n",
    "from sklearn.feature_selection import f_regression \n",
    "from math import sqrt\n",
    "import statsmodels.api as sm\n",
    "\n",
    "from sklearn.feature_selection import SelectKBest, RFE, f_regression, SequentialFeatureSelector\n",
    "from sklearn.linear_model import LinearRegression\n",
    "from sklearn.feature_selection import SelectKBest, f_classif"
   ]
  },
  {
   "cell_type": "markdown",
   "id": "ec20bac5-4252-47e7-8b02-97233f7ee220",
   "metadata": {},
   "source": [
    "## Acquire\n",
    "* Data is pulled from Zillow dataset tables (properties_2017, predictions_2017) joined in SQL with a function updating to CSV in case of disconnection\n",
    "* Includes only single family homes ('261' code) and 2017 transactions\n",
    "* Contains 52441 rows with 8 columns\n",
    "* Each row is a home/property\n",
    "* Each column is a home feature\n",
    "\n",
    "## Prepare\n",
    "\n",
    "* stripped and renamed all columns appropriately for easy recall\n",
    "* All nulls in rows deleted in data except 'garagecarcnt' where nulls equals '0'\n",
    "* changed some floats to integers\n",
    "* target value 'taxvalue' is continuous float\n",
    "* handled outliers for better distribution and visuals\n",
    "* created dummie columns for the three counties"
   ]
  },
  {
   "cell_type": "markdown",
   "id": "cc83bf49-8747-4fc9-99c5-50b6a5d36135",
   "metadata": {},
   "source": [
    "## Data Dictionary"
   ]
  },
  {
   "cell_type": "markdown",
   "id": "09ae9259-988d-47e2-be7a-e8be666143f9",
   "metadata": {},
   "source": [
    "| Features     | Definition                                                                                                           | Unit        |\n",
    "|--------------|----------------------------------------------------------------------------------------------------------------------|-------------|\n",
    "| taxvalue     | Assessed tax value of the home.                                                                                      | US Dollar   |\n",
    "| bedroomcnt   | Number of bedrooms in home.                                                                                          |             |\n",
    "| bathroomcnt  | Number of bathrooms in home including half baths.                                                                    |             |\n",
    "| finished_sf  | Total of square feet in the finished home.                                                                           | Square Feet |\n",
    "| garagecarcnt | Number of car spots in garage.                                                                                       |             |\n",
    "| lotsize_sf   | Total of square feet for the property or lot.                                                                        | Square Feet |\n",
    "| yearbuilt    | Year the home's build.                                                                                               |             |\n",
    "| county       | County in which the property resides. a.k.a 'fips' 6037=Los Angeles County, 6059=Orange County,  6111=Ventura County |             |"
   ]
  },
  {
   "cell_type": "code",
   "execution_count": 2,
   "id": "5154797d-d0f6-436d-ab6f-b1125e6b6fc8",
   "metadata": {},
   "outputs": [
    {
     "data": {
      "text/html": [
       "<div>\n",
       "<style scoped>\n",
       "    .dataframe tbody tr th:only-of-type {\n",
       "        vertical-align: middle;\n",
       "    }\n",
       "\n",
       "    .dataframe tbody tr th {\n",
       "        vertical-align: top;\n",
       "    }\n",
       "\n",
       "    .dataframe thead th {\n",
       "        text-align: right;\n",
       "    }\n",
       "</style>\n",
       "<table border=\"1\" class=\"dataframe\">\n",
       "  <thead>\n",
       "    <tr style=\"text-align: right;\">\n",
       "      <th></th>\n",
       "      <th>bedroomcnt</th>\n",
       "      <th>bathroomcnt</th>\n",
       "      <th>calculatedfinishedsquarefeet</th>\n",
       "      <th>taxvaluedollarcnt</th>\n",
       "      <th>garagecarcnt</th>\n",
       "      <th>lotsizesquarefeet</th>\n",
       "      <th>yearbuilt</th>\n",
       "      <th>fips</th>\n",
       "    </tr>\n",
       "  </thead>\n",
       "  <tbody>\n",
       "    <tr>\n",
       "      <th>0</th>\n",
       "      <td>4.0</td>\n",
       "      <td>3.5</td>\n",
       "      <td>3100.0</td>\n",
       "      <td>1023282.0</td>\n",
       "      <td>2.0</td>\n",
       "      <td>4506.0</td>\n",
       "      <td>1998.0</td>\n",
       "      <td>6059.0</td>\n",
       "    </tr>\n",
       "    <tr>\n",
       "      <th>1</th>\n",
       "      <td>2.0</td>\n",
       "      <td>1.0</td>\n",
       "      <td>1465.0</td>\n",
       "      <td>464000.0</td>\n",
       "      <td>1.0</td>\n",
       "      <td>12647.0</td>\n",
       "      <td>1967.0</td>\n",
       "      <td>6111.0</td>\n",
       "    </tr>\n",
       "    <tr>\n",
       "      <th>2</th>\n",
       "      <td>3.0</td>\n",
       "      <td>2.0</td>\n",
       "      <td>1243.0</td>\n",
       "      <td>564778.0</td>\n",
       "      <td>2.0</td>\n",
       "      <td>8432.0</td>\n",
       "      <td>1962.0</td>\n",
       "      <td>6059.0</td>\n",
       "    </tr>\n",
       "    <tr>\n",
       "      <th>3</th>\n",
       "      <td>4.0</td>\n",
       "      <td>3.0</td>\n",
       "      <td>2376.0</td>\n",
       "      <td>145143.0</td>\n",
       "      <td>NaN</td>\n",
       "      <td>13038.0</td>\n",
       "      <td>1970.0</td>\n",
       "      <td>6037.0</td>\n",
       "    </tr>\n",
       "    <tr>\n",
       "      <th>4</th>\n",
       "      <td>4.0</td>\n",
       "      <td>3.0</td>\n",
       "      <td>2962.0</td>\n",
       "      <td>773303.0</td>\n",
       "      <td>NaN</td>\n",
       "      <td>63000.0</td>\n",
       "      <td>1950.0</td>\n",
       "      <td>6037.0</td>\n",
       "    </tr>\n",
       "  </tbody>\n",
       "</table>\n",
       "</div>"
      ],
      "text/plain": [
       "   bedroomcnt  bathroomcnt  calculatedfinishedsquarefeet  taxvaluedollarcnt  \\\n",
       "0         4.0          3.5                        3100.0          1023282.0   \n",
       "1         2.0          1.0                        1465.0           464000.0   \n",
       "2         3.0          2.0                        1243.0           564778.0   \n",
       "3         4.0          3.0                        2376.0           145143.0   \n",
       "4         4.0          3.0                        2962.0           773303.0   \n",
       "\n",
       "   garagecarcnt  lotsizesquarefeet  yearbuilt    fips  \n",
       "0           2.0             4506.0     1998.0  6059.0  \n",
       "1           1.0            12647.0     1967.0  6111.0  \n",
       "2           2.0             8432.0     1962.0  6059.0  \n",
       "3           NaN            13038.0     1970.0  6037.0  \n",
       "4           NaN            63000.0     1950.0  6037.0  "
      ]
     },
     "execution_count": 2,
     "metadata": {},
     "output_type": "execute_result"
    }
   ],
   "source": [
    "# build query and look at data\n",
    "zillow_query = \"\"\"\n",
    "        select bedroomcnt, bathroomcnt, calculatedfinishedsquarefeet, taxvaluedollarcnt, garagecarcnt, lotsizesquarefeet, yearbuilt, fips\n",
    "        from properties_2017\n",
    "        join predictions_2017 using (parcelid)\n",
    "        where propertylandusetypeid = '261'\n",
    "        AND YEAR(transactiondate) = 2017;\n",
    "        \"\"\"\n",
    "\n",
    "df = wra.get_zillow_data(zillow_query)\n",
    "\n",
    "df.head()"
   ]
  },
  {
   "cell_type": "code",
   "execution_count": 5,
   "id": "e7886ee1-0f36-40ea-a2ae-54562d3b46de",
   "metadata": {},
   "outputs": [
    {
     "data": {
      "text/plain": [
       "(52441, 8)"
      ]
     },
     "execution_count": 5,
     "metadata": {},
     "output_type": "execute_result"
    }
   ],
   "source": [
    "# see if the rows are the desired 52K\n",
    "df.shape"
   ]
  },
  {
   "cell_type": "code",
   "execution_count": 3,
   "id": "90f42f64-160f-4c1b-b38f-2f41c6765e51",
   "metadata": {},
   "outputs": [],
   "source": [
    "#rename columns\n",
    "df.rename(columns={'calculatedfinishedsquarefeet': 'finished_sf', 'taxvaluedollarcnt': 'taxvalue', 'lotsizesquarefeet': 'lotsize_sf', 'fips': 'county'}, inplace=True)"
   ]
  },
  {
   "cell_type": "markdown",
   "id": "54cda1c8-3488-4730-90ae-e4fb20c7d7e5",
   "metadata": {},
   "source": [
    "## A brief look at the data"
   ]
  },
  {
   "cell_type": "code",
   "execution_count": 4,
   "id": "b2293b51-0242-44d6-b67e-7b3d8f96434f",
   "metadata": {},
   "outputs": [
    {
     "data": {
      "text/html": [
       "<div>\n",
       "<style scoped>\n",
       "    .dataframe tbody tr th:only-of-type {\n",
       "        vertical-align: middle;\n",
       "    }\n",
       "\n",
       "    .dataframe tbody tr th {\n",
       "        vertical-align: top;\n",
       "    }\n",
       "\n",
       "    .dataframe thead th {\n",
       "        text-align: right;\n",
       "    }\n",
       "</style>\n",
       "<table border=\"1\" class=\"dataframe\">\n",
       "  <thead>\n",
       "    <tr style=\"text-align: right;\">\n",
       "      <th></th>\n",
       "      <th>bedroomcnt</th>\n",
       "      <th>bathroomcnt</th>\n",
       "      <th>finished_sf</th>\n",
       "      <th>taxvalue</th>\n",
       "      <th>garagecarcnt</th>\n",
       "      <th>lotsize_sf</th>\n",
       "      <th>yearbuilt</th>\n",
       "      <th>county</th>\n",
       "    </tr>\n",
       "  </thead>\n",
       "  <tbody>\n",
       "    <tr>\n",
       "      <th>0</th>\n",
       "      <td>4.0</td>\n",
       "      <td>3.5</td>\n",
       "      <td>3100.0</td>\n",
       "      <td>1023282.0</td>\n",
       "      <td>2.0</td>\n",
       "      <td>4506.0</td>\n",
       "      <td>1998.0</td>\n",
       "      <td>6059.0</td>\n",
       "    </tr>\n",
       "    <tr>\n",
       "      <th>1</th>\n",
       "      <td>2.0</td>\n",
       "      <td>1.0</td>\n",
       "      <td>1465.0</td>\n",
       "      <td>464000.0</td>\n",
       "      <td>1.0</td>\n",
       "      <td>12647.0</td>\n",
       "      <td>1967.0</td>\n",
       "      <td>6111.0</td>\n",
       "    </tr>\n",
       "    <tr>\n",
       "      <th>2</th>\n",
       "      <td>3.0</td>\n",
       "      <td>2.0</td>\n",
       "      <td>1243.0</td>\n",
       "      <td>564778.0</td>\n",
       "      <td>2.0</td>\n",
       "      <td>8432.0</td>\n",
       "      <td>1962.0</td>\n",
       "      <td>6059.0</td>\n",
       "    </tr>\n",
       "    <tr>\n",
       "      <th>3</th>\n",
       "      <td>4.0</td>\n",
       "      <td>3.0</td>\n",
       "      <td>2376.0</td>\n",
       "      <td>145143.0</td>\n",
       "      <td>NaN</td>\n",
       "      <td>13038.0</td>\n",
       "      <td>1970.0</td>\n",
       "      <td>6037.0</td>\n",
       "    </tr>\n",
       "    <tr>\n",
       "      <th>4</th>\n",
       "      <td>4.0</td>\n",
       "      <td>3.0</td>\n",
       "      <td>2962.0</td>\n",
       "      <td>773303.0</td>\n",
       "      <td>NaN</td>\n",
       "      <td>63000.0</td>\n",
       "      <td>1950.0</td>\n",
       "      <td>6037.0</td>\n",
       "    </tr>\n",
       "  </tbody>\n",
       "</table>\n",
       "</div>"
      ],
      "text/plain": [
       "   bedroomcnt  bathroomcnt  finished_sf   taxvalue  garagecarcnt  lotsize_sf  \\\n",
       "0         4.0          3.5       3100.0  1023282.0           2.0      4506.0   \n",
       "1         2.0          1.0       1465.0   464000.0           1.0     12647.0   \n",
       "2         3.0          2.0       1243.0   564778.0           2.0      8432.0   \n",
       "3         4.0          3.0       2376.0   145143.0           NaN     13038.0   \n",
       "4         4.0          3.0       2962.0   773303.0           NaN     63000.0   \n",
       "\n",
       "   yearbuilt  county  \n",
       "0     1998.0  6059.0  \n",
       "1     1967.0  6111.0  \n",
       "2     1962.0  6059.0  \n",
       "3     1970.0  6037.0  \n",
       "4     1950.0  6037.0  "
      ]
     },
     "execution_count": 4,
     "metadata": {},
     "output_type": "execute_result"
    }
   ],
   "source": [
    "df.head()"
   ]
  },
  {
   "cell_type": "code",
   "execution_count": 5,
   "id": "7490bbd8-79c3-470a-8820-cfcc96376256",
   "metadata": {},
   "outputs": [
    {
     "name": "stdout",
     "output_type": "stream",
     "text": [
      "<class 'pandas.core.frame.DataFrame'>\n",
      "RangeIndex: 52441 entries, 0 to 52440\n",
      "Data columns (total 8 columns):\n",
      " #   Column        Non-Null Count  Dtype  \n",
      "---  ------        --------------  -----  \n",
      " 0   bedroomcnt    52441 non-null  float64\n",
      " 1   bathroomcnt   52441 non-null  float64\n",
      " 2   finished_sf   52359 non-null  float64\n",
      " 3   taxvalue      52440 non-null  float64\n",
      " 4   garagecarcnt  18015 non-null  float64\n",
      " 5   lotsize_sf    52072 non-null  float64\n",
      " 6   yearbuilt     52325 non-null  float64\n",
      " 7   county        52441 non-null  float64\n",
      "dtypes: float64(8)\n",
      "memory usage: 3.2 MB\n"
     ]
    }
   ],
   "source": [
    "# look at our dtypes\n",
    "df.info()"
   ]
  },
  {
   "cell_type": "markdown",
   "id": "7d6cc8de-5429-4a59-bcb0-39ef902f19c7",
   "metadata": {},
   "source": [
    "## A summary of the data"
   ]
  },
  {
   "cell_type": "code",
   "execution_count": 6,
   "id": "448a57fa-4ec1-4d52-b678-10e967b7c737",
   "metadata": {},
   "outputs": [],
   "source": [
    "# change all NaNs to '0' in 'garagecarcnt' column\n",
    "df['garagecarcnt'] = df['garagecarcnt'].fillna(0)"
   ]
  },
  {
   "cell_type": "code",
   "execution_count": 7,
   "id": "4a1e4acf-4bce-4e2f-9f54-2c0126ea3a61",
   "metadata": {},
   "outputs": [
    {
     "data": {
      "text/html": [
       "<div>\n",
       "<style scoped>\n",
       "    .dataframe tbody tr th:only-of-type {\n",
       "        vertical-align: middle;\n",
       "    }\n",
       "\n",
       "    .dataframe tbody tr th {\n",
       "        vertical-align: top;\n",
       "    }\n",
       "\n",
       "    .dataframe thead th {\n",
       "        text-align: right;\n",
       "    }\n",
       "</style>\n",
       "<table border=\"1\" class=\"dataframe\">\n",
       "  <thead>\n",
       "    <tr style=\"text-align: right;\">\n",
       "      <th></th>\n",
       "      <th>bedroomcnt</th>\n",
       "      <th>bathroomcnt</th>\n",
       "      <th>finished_sf</th>\n",
       "      <th>taxvalue</th>\n",
       "      <th>garagecarcnt</th>\n",
       "      <th>lotsize_sf</th>\n",
       "      <th>yearbuilt</th>\n",
       "      <th>county</th>\n",
       "    </tr>\n",
       "  </thead>\n",
       "  <tbody>\n",
       "    <tr>\n",
       "      <th>0</th>\n",
       "      <td>4.0</td>\n",
       "      <td>3.5</td>\n",
       "      <td>3100.0</td>\n",
       "      <td>1023282.0</td>\n",
       "      <td>2.0</td>\n",
       "      <td>4506.0</td>\n",
       "      <td>1998.0</td>\n",
       "      <td>6059.0</td>\n",
       "    </tr>\n",
       "    <tr>\n",
       "      <th>1</th>\n",
       "      <td>2.0</td>\n",
       "      <td>1.0</td>\n",
       "      <td>1465.0</td>\n",
       "      <td>464000.0</td>\n",
       "      <td>1.0</td>\n",
       "      <td>12647.0</td>\n",
       "      <td>1967.0</td>\n",
       "      <td>6111.0</td>\n",
       "    </tr>\n",
       "    <tr>\n",
       "      <th>2</th>\n",
       "      <td>3.0</td>\n",
       "      <td>2.0</td>\n",
       "      <td>1243.0</td>\n",
       "      <td>564778.0</td>\n",
       "      <td>2.0</td>\n",
       "      <td>8432.0</td>\n",
       "      <td>1962.0</td>\n",
       "      <td>6059.0</td>\n",
       "    </tr>\n",
       "    <tr>\n",
       "      <th>3</th>\n",
       "      <td>4.0</td>\n",
       "      <td>3.0</td>\n",
       "      <td>2376.0</td>\n",
       "      <td>145143.0</td>\n",
       "      <td>0.0</td>\n",
       "      <td>13038.0</td>\n",
       "      <td>1970.0</td>\n",
       "      <td>6037.0</td>\n",
       "    </tr>\n",
       "    <tr>\n",
       "      <th>4</th>\n",
       "      <td>4.0</td>\n",
       "      <td>3.0</td>\n",
       "      <td>2962.0</td>\n",
       "      <td>773303.0</td>\n",
       "      <td>0.0</td>\n",
       "      <td>63000.0</td>\n",
       "      <td>1950.0</td>\n",
       "      <td>6037.0</td>\n",
       "    </tr>\n",
       "  </tbody>\n",
       "</table>\n",
       "</div>"
      ],
      "text/plain": [
       "   bedroomcnt  bathroomcnt  finished_sf   taxvalue  garagecarcnt  lotsize_sf  \\\n",
       "0         4.0          3.5       3100.0  1023282.0           2.0      4506.0   \n",
       "1         2.0          1.0       1465.0   464000.0           1.0     12647.0   \n",
       "2         3.0          2.0       1243.0   564778.0           2.0      8432.0   \n",
       "3         4.0          3.0       2376.0   145143.0           0.0     13038.0   \n",
       "4         4.0          3.0       2962.0   773303.0           0.0     63000.0   \n",
       "\n",
       "   yearbuilt  county  \n",
       "0     1998.0  6059.0  \n",
       "1     1967.0  6111.0  \n",
       "2     1962.0  6059.0  \n",
       "3     1970.0  6037.0  \n",
       "4     1950.0  6037.0  "
      ]
     },
     "execution_count": 7,
     "metadata": {},
     "output_type": "execute_result"
    }
   ],
   "source": [
    "df.head()"
   ]
  },
  {
   "cell_type": "code",
   "execution_count": 8,
   "id": "f56191fe-9d87-4464-8215-995b893cff1e",
   "metadata": {},
   "outputs": [],
   "source": [
    "# drop all null rows\n",
    "df.dropna(inplace=True)"
   ]
  },
  {
   "cell_type": "code",
   "execution_count": 9,
   "id": "2cd0c002-3c36-4aa7-b222-0ce06d5547df",
   "metadata": {},
   "outputs": [
    {
     "data": {
      "text/plain": [
       "(51959, 8)"
      ]
     },
     "execution_count": 9,
     "metadata": {},
     "output_type": "execute_result"
    }
   ],
   "source": [
    "# see how many rows we lost (452)\n",
    "df.shape"
   ]
  },
  {
   "cell_type": "code",
   "execution_count": 15,
   "id": "bb455ba8-a0c9-4063-829b-34d70e1d4730",
   "metadata": {},
   "outputs": [
    {
     "data": {
      "text/plain": [
       "bedroomcnt      0\n",
       "bathroomcnt     0\n",
       "finished_sf     0\n",
       "taxvalue        0\n",
       "garagecarcnt    0\n",
       "lotsize_sf      0\n",
       "yearbuilt       0\n",
       "county          0\n",
       "dtype: int64"
      ]
     },
     "execution_count": 15,
     "metadata": {},
     "output_type": "execute_result"
    }
   ],
   "source": [
    "#verify if any nulls in columns\n",
    "df.isnull().sum()"
   ]
  },
  {
   "cell_type": "code",
   "execution_count": 17,
   "id": "bede032e-a4a8-434f-b7d1-aadaf2d64305",
   "metadata": {},
   "outputs": [],
   "source": [
    "# change some floats to integers for brevity\n",
    "df[['bedroomcnt', 'finished_sf', 'taxvalue', 'garagecarcnt', 'lotsize_sf', 'yearbuilt', 'county']] = df[['bedroomcnt', 'finished_sf', 'taxvalue', 'garagecarcnt', 'lotsize_sf', 'yearbuilt', 'county']].astype(int)"
   ]
  },
  {
   "cell_type": "code",
   "execution_count": 18,
   "id": "36e1a4e0-c683-4e8e-8255-90aee30cddbe",
   "metadata": {},
   "outputs": [
    {
     "name": "stdout",
     "output_type": "stream",
     "text": [
      "<class 'pandas.core.frame.DataFrame'>\n",
      "Int64Index: 51959 entries, 0 to 52440\n",
      "Data columns (total 8 columns):\n",
      " #   Column        Non-Null Count  Dtype  \n",
      "---  ------        --------------  -----  \n",
      " 0   bedroomcnt    51959 non-null  int64  \n",
      " 1   bathroomcnt   51959 non-null  float64\n",
      " 2   finished_sf   51959 non-null  int64  \n",
      " 3   taxvalue      51959 non-null  int64  \n",
      " 4   garagecarcnt  51959 non-null  int64  \n",
      " 5   lotsize_sf    51959 non-null  int64  \n",
      " 6   yearbuilt     51959 non-null  int64  \n",
      " 7   county        51959 non-null  int64  \n",
      "dtypes: float64(1), int64(7)\n",
      "memory usage: 3.6 MB\n"
     ]
    }
   ],
   "source": [
    "# verify Dtypes\n",
    "df.info()"
   ]
  },
  {
   "cell_type": "code",
   "execution_count": 19,
   "id": "f49b0832-3c2d-4146-b7ee-e4f9c82ac754",
   "metadata": {},
   "outputs": [
    {
     "data": {
      "text/html": [
       "<div>\n",
       "<style scoped>\n",
       "    .dataframe tbody tr th:only-of-type {\n",
       "        vertical-align: middle;\n",
       "    }\n",
       "\n",
       "    .dataframe tbody tr th {\n",
       "        vertical-align: top;\n",
       "    }\n",
       "\n",
       "    .dataframe thead th {\n",
       "        text-align: right;\n",
       "    }\n",
       "</style>\n",
       "<table border=\"1\" class=\"dataframe\">\n",
       "  <thead>\n",
       "    <tr style=\"text-align: right;\">\n",
       "      <th></th>\n",
       "      <th>bedroomcnt</th>\n",
       "      <th>bathroomcnt</th>\n",
       "      <th>finished_sf</th>\n",
       "      <th>taxvalue</th>\n",
       "      <th>garagecarcnt</th>\n",
       "      <th>lotsize_sf</th>\n",
       "      <th>yearbuilt</th>\n",
       "      <th>county</th>\n",
       "    </tr>\n",
       "  </thead>\n",
       "  <tbody>\n",
       "    <tr>\n",
       "      <th>0</th>\n",
       "      <td>4</td>\n",
       "      <td>3.5</td>\n",
       "      <td>3100</td>\n",
       "      <td>1023282</td>\n",
       "      <td>2</td>\n",
       "      <td>4506</td>\n",
       "      <td>1998</td>\n",
       "      <td>6059</td>\n",
       "    </tr>\n",
       "    <tr>\n",
       "      <th>1</th>\n",
       "      <td>2</td>\n",
       "      <td>1.0</td>\n",
       "      <td>1465</td>\n",
       "      <td>464000</td>\n",
       "      <td>1</td>\n",
       "      <td>12647</td>\n",
       "      <td>1967</td>\n",
       "      <td>6111</td>\n",
       "    </tr>\n",
       "    <tr>\n",
       "      <th>2</th>\n",
       "      <td>3</td>\n",
       "      <td>2.0</td>\n",
       "      <td>1243</td>\n",
       "      <td>564778</td>\n",
       "      <td>2</td>\n",
       "      <td>8432</td>\n",
       "      <td>1962</td>\n",
       "      <td>6059</td>\n",
       "    </tr>\n",
       "    <tr>\n",
       "      <th>3</th>\n",
       "      <td>4</td>\n",
       "      <td>3.0</td>\n",
       "      <td>2376</td>\n",
       "      <td>145143</td>\n",
       "      <td>0</td>\n",
       "      <td>13038</td>\n",
       "      <td>1970</td>\n",
       "      <td>6037</td>\n",
       "    </tr>\n",
       "    <tr>\n",
       "      <th>4</th>\n",
       "      <td>4</td>\n",
       "      <td>3.0</td>\n",
       "      <td>2962</td>\n",
       "      <td>773303</td>\n",
       "      <td>0</td>\n",
       "      <td>63000</td>\n",
       "      <td>1950</td>\n",
       "      <td>6037</td>\n",
       "    </tr>\n",
       "  </tbody>\n",
       "</table>\n",
       "</div>"
      ],
      "text/plain": [
       "   bedroomcnt  bathroomcnt  finished_sf  taxvalue  garagecarcnt  lotsize_sf  \\\n",
       "0           4          3.5         3100   1023282             2        4506   \n",
       "1           2          1.0         1465    464000             1       12647   \n",
       "2           3          2.0         1243    564778             2        8432   \n",
       "3           4          3.0         2376    145143             0       13038   \n",
       "4           4          3.0         2962    773303             0       63000   \n",
       "\n",
       "   yearbuilt  county  \n",
       "0       1998    6059  \n",
       "1       1967    6111  \n",
       "2       1962    6059  \n",
       "3       1970    6037  \n",
       "4       1950    6037  "
      ]
     },
     "execution_count": 19,
     "metadata": {},
     "output_type": "execute_result"
    }
   ],
   "source": [
    "df.head()"
   ]
  },
  {
   "cell_type": "code",
   "execution_count": 20,
   "id": "fed98f84-88e5-4fd4-8507-b346f265b54d",
   "metadata": {},
   "outputs": [],
   "source": [
    "# change 'fips' codes to names of 'county'\n",
    "df.county = df.county.map({6037:'LA',6059:'Orange',6111:'Ventura'})"
   ]
  },
  {
   "cell_type": "code",
   "execution_count": 21,
   "id": "3e94d47f-9621-4ff6-af0f-ad22bd98c0b0",
   "metadata": {},
   "outputs": [
    {
     "data": {
      "text/html": [
       "<div>\n",
       "<style scoped>\n",
       "    .dataframe tbody tr th:only-of-type {\n",
       "        vertical-align: middle;\n",
       "    }\n",
       "\n",
       "    .dataframe tbody tr th {\n",
       "        vertical-align: top;\n",
       "    }\n",
       "\n",
       "    .dataframe thead th {\n",
       "        text-align: right;\n",
       "    }\n",
       "</style>\n",
       "<table border=\"1\" class=\"dataframe\">\n",
       "  <thead>\n",
       "    <tr style=\"text-align: right;\">\n",
       "      <th></th>\n",
       "      <th>bedroomcnt</th>\n",
       "      <th>bathroomcnt</th>\n",
       "      <th>finished_sf</th>\n",
       "      <th>taxvalue</th>\n",
       "      <th>garagecarcnt</th>\n",
       "      <th>lotsize_sf</th>\n",
       "      <th>yearbuilt</th>\n",
       "      <th>county</th>\n",
       "    </tr>\n",
       "  </thead>\n",
       "  <tbody>\n",
       "    <tr>\n",
       "      <th>0</th>\n",
       "      <td>4</td>\n",
       "      <td>3.5</td>\n",
       "      <td>3100</td>\n",
       "      <td>1023282</td>\n",
       "      <td>2</td>\n",
       "      <td>4506</td>\n",
       "      <td>1998</td>\n",
       "      <td>Orange</td>\n",
       "    </tr>\n",
       "    <tr>\n",
       "      <th>1</th>\n",
       "      <td>2</td>\n",
       "      <td>1.0</td>\n",
       "      <td>1465</td>\n",
       "      <td>464000</td>\n",
       "      <td>1</td>\n",
       "      <td>12647</td>\n",
       "      <td>1967</td>\n",
       "      <td>Ventura</td>\n",
       "    </tr>\n",
       "    <tr>\n",
       "      <th>2</th>\n",
       "      <td>3</td>\n",
       "      <td>2.0</td>\n",
       "      <td>1243</td>\n",
       "      <td>564778</td>\n",
       "      <td>2</td>\n",
       "      <td>8432</td>\n",
       "      <td>1962</td>\n",
       "      <td>Orange</td>\n",
       "    </tr>\n",
       "    <tr>\n",
       "      <th>3</th>\n",
       "      <td>4</td>\n",
       "      <td>3.0</td>\n",
       "      <td>2376</td>\n",
       "      <td>145143</td>\n",
       "      <td>0</td>\n",
       "      <td>13038</td>\n",
       "      <td>1970</td>\n",
       "      <td>LA</td>\n",
       "    </tr>\n",
       "    <tr>\n",
       "      <th>4</th>\n",
       "      <td>4</td>\n",
       "      <td>3.0</td>\n",
       "      <td>2962</td>\n",
       "      <td>773303</td>\n",
       "      <td>0</td>\n",
       "      <td>63000</td>\n",
       "      <td>1950</td>\n",
       "      <td>LA</td>\n",
       "    </tr>\n",
       "  </tbody>\n",
       "</table>\n",
       "</div>"
      ],
      "text/plain": [
       "   bedroomcnt  bathroomcnt  finished_sf  taxvalue  garagecarcnt  lotsize_sf  \\\n",
       "0           4          3.5         3100   1023282             2        4506   \n",
       "1           2          1.0         1465    464000             1       12647   \n",
       "2           3          2.0         1243    564778             2        8432   \n",
       "3           4          3.0         2376    145143             0       13038   \n",
       "4           4          3.0         2962    773303             0       63000   \n",
       "\n",
       "   yearbuilt   county  \n",
       "0       1998   Orange  \n",
       "1       1967  Ventura  \n",
       "2       1962   Orange  \n",
       "3       1970       LA  \n",
       "4       1950       LA  "
      ]
     },
     "execution_count": 21,
     "metadata": {},
     "output_type": "execute_result"
    }
   ],
   "source": [
    "df.head()"
   ]
  },
  {
   "cell_type": "code",
   "execution_count": 31,
   "id": "670c207c-0034-4cae-8403-502ae02d1c9e",
   "metadata": {},
   "outputs": [],
   "source": [
    "# shrinking outliers\n",
    "df = df [df.finished_sf < 25_000]\n",
    "df = df[df.lotsize_sf < 76_000]\n",
    "df = df [df.taxvalue < df.taxvalue.quantile(.95)].copy()\n",
    "df = df[df.taxvalue > df.taxvalue.quantile(.001)].copy()"
   ]
  },
  {
   "cell_type": "code",
   "execution_count": 41,
   "id": "1977a755-908c-4b11-9400-958e59bce791",
   "metadata": {},
   "outputs": [
    {
     "data": {
      "text/plain": [
       "(44098, 8)"
      ]
     },
     "execution_count": 41,
     "metadata": {},
     "output_type": "execute_result"
    }
   ],
   "source": [
    "df.shape"
   ]
  },
  {
   "cell_type": "code",
   "execution_count": 32,
   "id": "afef3b40-df43-4369-ae5e-0cfc76af2de3",
   "metadata": {},
   "outputs": [
    {
     "name": "stdout",
     "output_type": "stream",
     "text": [
      "Top 5 largest values in column bedroomcnt:\n",
      "21981    11\n",
      "33311    10\n",
      "6631      9\n",
      "7765      9\n",
      "13676     9\n",
      "Name: bedroomcnt, dtype: int64\n",
      "Top 5 largest values in column bathroomcnt:\n",
      "33311    10.0\n",
      "27996     9.0\n",
      "32002     8.0\n",
      "47038     8.0\n",
      "36840     7.5\n",
      "Name: bathroomcnt, dtype: float64\n",
      "Top 5 largest values in column finished_sf:\n",
      "7765     7970\n",
      "32002    7942\n",
      "9795     7524\n",
      "49872    6868\n",
      "30722    6756\n",
      "Name: finished_sf, dtype: int64\n",
      "Top 5 largest values in column taxvalue:\n",
      "43650    837688\n",
      "23865    837622\n",
      "44458    837618\n",
      "3808     837581\n",
      "14927    837581\n",
      "Name: taxvalue, dtype: int64\n",
      "Top 5 largest values in column garagecarcnt:\n",
      "26594    9\n",
      "28454    8\n",
      "4400     7\n",
      "18089    7\n",
      "33437    7\n",
      "Name: garagecarcnt, dtype: int64\n",
      "Top 5 largest values in column lotsize_sf:\n",
      "19789    74922\n",
      "5839     74805\n",
      "16856    74764\n",
      "12545    74664\n",
      "39960    74430\n",
      "Name: lotsize_sf, dtype: int64\n",
      "Top 5 largest values in column yearbuilt:\n",
      "39822    2016\n",
      "1336     2015\n",
      "5795     2015\n",
      "7316     2015\n",
      "7910     2015\n",
      "Name: yearbuilt, dtype: int64\n"
     ]
    },
    {
     "ename": "TypeError",
     "evalue": "Cannot use method 'nlargest' with dtype object",
     "output_type": "error",
     "traceback": [
      "\u001b[0;31m---------------------------------------------------------------------------\u001b[0m",
      "\u001b[0;31mTypeError\u001b[0m                                 Traceback (most recent call last)",
      "Input \u001b[0;32mIn [32]\u001b[0m, in \u001b[0;36m<cell line: 2>\u001b[0;34m()\u001b[0m\n\u001b[1;32m      1\u001b[0m \u001b[38;5;66;03m# checking max parameters\u001b[39;00m\n\u001b[1;32m      2\u001b[0m \u001b[38;5;28;01mfor\u001b[39;00m col \u001b[38;5;129;01min\u001b[39;00m df\u001b[38;5;241m.\u001b[39mcolumns:\n\u001b[0;32m----> 3\u001b[0m     top_5 \u001b[38;5;241m=\u001b[39m \u001b[43mdf\u001b[49m\u001b[43m[\u001b[49m\u001b[43mcol\u001b[49m\u001b[43m]\u001b[49m\u001b[38;5;241;43m.\u001b[39;49m\u001b[43mnlargest\u001b[49m\u001b[43m(\u001b[49m\u001b[38;5;241;43m5\u001b[39;49m\u001b[43m)\u001b[49m\n\u001b[1;32m      4\u001b[0m     \u001b[38;5;28mprint\u001b[39m(\u001b[38;5;124mf\u001b[39m\u001b[38;5;124m'\u001b[39m\u001b[38;5;124mTop 5 largest values in column \u001b[39m\u001b[38;5;132;01m{\u001b[39;00mcol\u001b[38;5;132;01m}\u001b[39;00m\u001b[38;5;124m:\u001b[39m\u001b[38;5;124m'\u001b[39m)\n\u001b[1;32m      5\u001b[0m     \u001b[38;5;28mprint\u001b[39m(top_5)\n",
      "File \u001b[0;32m/opt/homebrew/anaconda3/lib/python3.9/site-packages/pandas/core/series.py:3836\u001b[0m, in \u001b[0;36mSeries.nlargest\u001b[0;34m(self, n, keep)\u001b[0m\n\u001b[1;32m   3740\u001b[0m \u001b[38;5;28;01mdef\u001b[39;00m \u001b[38;5;21mnlargest\u001b[39m(\u001b[38;5;28mself\u001b[39m, n\u001b[38;5;241m=\u001b[39m\u001b[38;5;241m5\u001b[39m, keep\u001b[38;5;241m=\u001b[39m\u001b[38;5;124m\"\u001b[39m\u001b[38;5;124mfirst\u001b[39m\u001b[38;5;124m\"\u001b[39m) \u001b[38;5;241m-\u001b[39m\u001b[38;5;241m>\u001b[39m Series:\n\u001b[1;32m   3741\u001b[0m     \u001b[38;5;124;03m\"\"\"\u001b[39;00m\n\u001b[1;32m   3742\u001b[0m \u001b[38;5;124;03m    Return the largest `n` elements.\u001b[39;00m\n\u001b[1;32m   3743\u001b[0m \n\u001b[0;32m   (...)\u001b[0m\n\u001b[1;32m   3834\u001b[0m \u001b[38;5;124;03m    dtype: int64\u001b[39;00m\n\u001b[1;32m   3835\u001b[0m \u001b[38;5;124;03m    \"\"\"\u001b[39;00m\n\u001b[0;32m-> 3836\u001b[0m     \u001b[38;5;28;01mreturn\u001b[39;00m \u001b[43malgorithms\u001b[49m\u001b[38;5;241;43m.\u001b[39;49m\u001b[43mSelectNSeries\u001b[49m\u001b[43m(\u001b[49m\u001b[38;5;28;43mself\u001b[39;49m\u001b[43m,\u001b[49m\u001b[43m \u001b[49m\u001b[43mn\u001b[49m\u001b[38;5;241;43m=\u001b[39;49m\u001b[43mn\u001b[49m\u001b[43m,\u001b[49m\u001b[43m \u001b[49m\u001b[43mkeep\u001b[49m\u001b[38;5;241;43m=\u001b[39;49m\u001b[43mkeep\u001b[49m\u001b[43m)\u001b[49m\u001b[38;5;241;43m.\u001b[39;49m\u001b[43mnlargest\u001b[49m\u001b[43m(\u001b[49m\u001b[43m)\u001b[49m\n",
      "File \u001b[0;32m/opt/homebrew/anaconda3/lib/python3.9/site-packages/pandas/core/algorithms.py:1137\u001b[0m, in \u001b[0;36mSelectN.nlargest\u001b[0;34m(self)\u001b[0m\n\u001b[1;32m   1135\u001b[0m \u001b[38;5;129m@final\u001b[39m\n\u001b[1;32m   1136\u001b[0m \u001b[38;5;28;01mdef\u001b[39;00m \u001b[38;5;21mnlargest\u001b[39m(\u001b[38;5;28mself\u001b[39m):\n\u001b[0;32m-> 1137\u001b[0m     \u001b[38;5;28;01mreturn\u001b[39;00m \u001b[38;5;28;43mself\u001b[39;49m\u001b[38;5;241;43m.\u001b[39;49m\u001b[43mcompute\u001b[49m\u001b[43m(\u001b[49m\u001b[38;5;124;43m\"\u001b[39;49m\u001b[38;5;124;43mnlargest\u001b[39;49m\u001b[38;5;124;43m\"\u001b[39;49m\u001b[43m)\u001b[49m\n",
      "File \u001b[0;32m/opt/homebrew/anaconda3/lib/python3.9/site-packages/pandas/core/algorithms.py:1177\u001b[0m, in \u001b[0;36mSelectNSeries.compute\u001b[0;34m(self, method)\u001b[0m\n\u001b[1;32m   1175\u001b[0m dtype \u001b[38;5;241m=\u001b[39m \u001b[38;5;28mself\u001b[39m\u001b[38;5;241m.\u001b[39mobj\u001b[38;5;241m.\u001b[39mdtype\n\u001b[1;32m   1176\u001b[0m \u001b[38;5;28;01mif\u001b[39;00m \u001b[38;5;129;01mnot\u001b[39;00m \u001b[38;5;28mself\u001b[39m\u001b[38;5;241m.\u001b[39mis_valid_dtype_n_method(dtype):\n\u001b[0;32m-> 1177\u001b[0m     \u001b[38;5;28;01mraise\u001b[39;00m \u001b[38;5;167;01mTypeError\u001b[39;00m(\u001b[38;5;124mf\u001b[39m\u001b[38;5;124m\"\u001b[39m\u001b[38;5;124mCannot use method \u001b[39m\u001b[38;5;124m'\u001b[39m\u001b[38;5;132;01m{\u001b[39;00mmethod\u001b[38;5;132;01m}\u001b[39;00m\u001b[38;5;124m'\u001b[39m\u001b[38;5;124m with dtype \u001b[39m\u001b[38;5;132;01m{\u001b[39;00mdtype\u001b[38;5;132;01m}\u001b[39;00m\u001b[38;5;124m\"\u001b[39m)\n\u001b[1;32m   1179\u001b[0m \u001b[38;5;28;01mif\u001b[39;00m n \u001b[38;5;241m<\u001b[39m\u001b[38;5;241m=\u001b[39m \u001b[38;5;241m0\u001b[39m:\n\u001b[1;32m   1180\u001b[0m     \u001b[38;5;28;01mreturn\u001b[39;00m \u001b[38;5;28mself\u001b[39m\u001b[38;5;241m.\u001b[39mobj[[]]\n",
      "\u001b[0;31mTypeError\u001b[0m: Cannot use method 'nlargest' with dtype object"
     ]
    }
   ],
   "source": [
    "# checking max parameters\n",
    "for col in df.columns:\n",
    "    top_5 = df[col].nlargest(5)\n",
    "    print(f'Top 5 largest values in column {col}:')\n",
    "    print(top_5)"
   ]
  },
  {
   "cell_type": "code",
   "execution_count": 33,
   "id": "640e89f7-26e1-4cab-9967-a5fa88f0aac4",
   "metadata": {},
   "outputs": [
    {
     "name": "stdout",
     "output_type": "stream",
     "text": [
      "Bottom 5 smallest values in column bedroomcnt:\n",
      "2694    0\n",
      "3261    0\n",
      "4675    0\n",
      "6132    0\n",
      "6343    0\n",
      "Name: bedroomcnt, dtype: int64\n",
      "Bottom 5 smallest values in column bathroomcnt:\n",
      "2694     0.0\n",
      "6132     0.0\n",
      "10294    0.0\n",
      "10970    0.0\n",
      "14279    0.0\n",
      "Name: bathroomcnt, dtype: float64\n",
      "Bottom 5 smallest values in column finished_sf:\n",
      "6132     128\n",
      "51075    152\n",
      "39656    240\n",
      "3261     288\n",
      "23504    300\n",
      "Name: finished_sf, dtype: int64\n",
      "Bottom 5 smallest values in column taxvalue:\n",
      "17346    25836\n",
      "1544     25837\n",
      "14796    25875\n",
      "23367    26038\n",
      "35734    26038\n",
      "Name: taxvalue, dtype: int64\n",
      "Bottom 5 smallest values in column garagecarcnt:\n",
      "3    0\n",
      "4    0\n",
      "5    0\n",
      "6    0\n",
      "7    0\n",
      "Name: garagecarcnt, dtype: int64\n",
      "Bottom 5 smallest values in column lotsize_sf:\n",
      "45424    236\n",
      "4509     480\n",
      "3386     540\n",
      "3841     540\n",
      "19685    540\n",
      "Name: lotsize_sf, dtype: int64\n",
      "Bottom 5 smallest values in column yearbuilt:\n",
      "27586    1878\n",
      "41189    1880\n",
      "38763    1882\n",
      "1147     1885\n",
      "3950     1885\n",
      "Name: yearbuilt, dtype: int64\n"
     ]
    },
    {
     "ename": "TypeError",
     "evalue": "Cannot use method 'nsmallest' with dtype object",
     "output_type": "error",
     "traceback": [
      "\u001b[0;31m---------------------------------------------------------------------------\u001b[0m",
      "\u001b[0;31mTypeError\u001b[0m                                 Traceback (most recent call last)",
      "Input \u001b[0;32mIn [33]\u001b[0m, in \u001b[0;36m<cell line: 2>\u001b[0;34m()\u001b[0m\n\u001b[1;32m      1\u001b[0m \u001b[38;5;66;03m# checking min parameters\u001b[39;00m\n\u001b[1;32m      2\u001b[0m \u001b[38;5;28;01mfor\u001b[39;00m col \u001b[38;5;129;01min\u001b[39;00m df\u001b[38;5;241m.\u001b[39mcolumns:\n\u001b[0;32m----> 3\u001b[0m     bottom_5 \u001b[38;5;241m=\u001b[39m \u001b[43mdf\u001b[49m\u001b[43m[\u001b[49m\u001b[43mcol\u001b[49m\u001b[43m]\u001b[49m\u001b[38;5;241;43m.\u001b[39;49m\u001b[43mnsmallest\u001b[49m\u001b[43m(\u001b[49m\u001b[38;5;241;43m5\u001b[39;49m\u001b[43m)\u001b[49m\n\u001b[1;32m      4\u001b[0m     \u001b[38;5;28mprint\u001b[39m(\u001b[38;5;124mf\u001b[39m\u001b[38;5;124m'\u001b[39m\u001b[38;5;124mBottom 5 smallest values in column \u001b[39m\u001b[38;5;132;01m{\u001b[39;00mcol\u001b[38;5;132;01m}\u001b[39;00m\u001b[38;5;124m:\u001b[39m\u001b[38;5;124m'\u001b[39m)\n\u001b[1;32m      5\u001b[0m     \u001b[38;5;28mprint\u001b[39m(bottom_5)\n",
      "File \u001b[0;32m/opt/homebrew/anaconda3/lib/python3.9/site-packages/pandas/core/series.py:3933\u001b[0m, in \u001b[0;36mSeries.nsmallest\u001b[0;34m(self, n, keep)\u001b[0m\n\u001b[1;32m   3838\u001b[0m \u001b[38;5;28;01mdef\u001b[39;00m \u001b[38;5;21mnsmallest\u001b[39m(\u001b[38;5;28mself\u001b[39m, n: \u001b[38;5;28mint\u001b[39m \u001b[38;5;241m=\u001b[39m \u001b[38;5;241m5\u001b[39m, keep: \u001b[38;5;28mstr\u001b[39m \u001b[38;5;241m=\u001b[39m \u001b[38;5;124m\"\u001b[39m\u001b[38;5;124mfirst\u001b[39m\u001b[38;5;124m\"\u001b[39m) \u001b[38;5;241m-\u001b[39m\u001b[38;5;241m>\u001b[39m Series:\n\u001b[1;32m   3839\u001b[0m     \u001b[38;5;124;03m\"\"\"\u001b[39;00m\n\u001b[1;32m   3840\u001b[0m \u001b[38;5;124;03m    Return the smallest `n` elements.\u001b[39;00m\n\u001b[1;32m   3841\u001b[0m \n\u001b[0;32m   (...)\u001b[0m\n\u001b[1;32m   3931\u001b[0m \u001b[38;5;124;03m    dtype: int64\u001b[39;00m\n\u001b[1;32m   3932\u001b[0m \u001b[38;5;124;03m    \"\"\"\u001b[39;00m\n\u001b[0;32m-> 3933\u001b[0m     \u001b[38;5;28;01mreturn\u001b[39;00m \u001b[43malgorithms\u001b[49m\u001b[38;5;241;43m.\u001b[39;49m\u001b[43mSelectNSeries\u001b[49m\u001b[43m(\u001b[49m\u001b[38;5;28;43mself\u001b[39;49m\u001b[43m,\u001b[49m\u001b[43m \u001b[49m\u001b[43mn\u001b[49m\u001b[38;5;241;43m=\u001b[39;49m\u001b[43mn\u001b[49m\u001b[43m,\u001b[49m\u001b[43m \u001b[49m\u001b[43mkeep\u001b[49m\u001b[38;5;241;43m=\u001b[39;49m\u001b[43mkeep\u001b[49m\u001b[43m)\u001b[49m\u001b[38;5;241;43m.\u001b[39;49m\u001b[43mnsmallest\u001b[49m\u001b[43m(\u001b[49m\u001b[43m)\u001b[49m\n",
      "File \u001b[0;32m/opt/homebrew/anaconda3/lib/python3.9/site-packages/pandas/core/algorithms.py:1141\u001b[0m, in \u001b[0;36mSelectN.nsmallest\u001b[0;34m(self)\u001b[0m\n\u001b[1;32m   1139\u001b[0m \u001b[38;5;129m@final\u001b[39m\n\u001b[1;32m   1140\u001b[0m \u001b[38;5;28;01mdef\u001b[39;00m \u001b[38;5;21mnsmallest\u001b[39m(\u001b[38;5;28mself\u001b[39m):\n\u001b[0;32m-> 1141\u001b[0m     \u001b[38;5;28;01mreturn\u001b[39;00m \u001b[38;5;28;43mself\u001b[39;49m\u001b[38;5;241;43m.\u001b[39;49m\u001b[43mcompute\u001b[49m\u001b[43m(\u001b[49m\u001b[38;5;124;43m\"\u001b[39;49m\u001b[38;5;124;43mnsmallest\u001b[39;49m\u001b[38;5;124;43m\"\u001b[39;49m\u001b[43m)\u001b[49m\n",
      "File \u001b[0;32m/opt/homebrew/anaconda3/lib/python3.9/site-packages/pandas/core/algorithms.py:1177\u001b[0m, in \u001b[0;36mSelectNSeries.compute\u001b[0;34m(self, method)\u001b[0m\n\u001b[1;32m   1175\u001b[0m dtype \u001b[38;5;241m=\u001b[39m \u001b[38;5;28mself\u001b[39m\u001b[38;5;241m.\u001b[39mobj\u001b[38;5;241m.\u001b[39mdtype\n\u001b[1;32m   1176\u001b[0m \u001b[38;5;28;01mif\u001b[39;00m \u001b[38;5;129;01mnot\u001b[39;00m \u001b[38;5;28mself\u001b[39m\u001b[38;5;241m.\u001b[39mis_valid_dtype_n_method(dtype):\n\u001b[0;32m-> 1177\u001b[0m     \u001b[38;5;28;01mraise\u001b[39;00m \u001b[38;5;167;01mTypeError\u001b[39;00m(\u001b[38;5;124mf\u001b[39m\u001b[38;5;124m\"\u001b[39m\u001b[38;5;124mCannot use method \u001b[39m\u001b[38;5;124m'\u001b[39m\u001b[38;5;132;01m{\u001b[39;00mmethod\u001b[38;5;132;01m}\u001b[39;00m\u001b[38;5;124m'\u001b[39m\u001b[38;5;124m with dtype \u001b[39m\u001b[38;5;132;01m{\u001b[39;00mdtype\u001b[38;5;132;01m}\u001b[39;00m\u001b[38;5;124m\"\u001b[39m)\n\u001b[1;32m   1179\u001b[0m \u001b[38;5;28;01mif\u001b[39;00m n \u001b[38;5;241m<\u001b[39m\u001b[38;5;241m=\u001b[39m \u001b[38;5;241m0\u001b[39m:\n\u001b[1;32m   1180\u001b[0m     \u001b[38;5;28;01mreturn\u001b[39;00m \u001b[38;5;28mself\u001b[39m\u001b[38;5;241m.\u001b[39mobj[[]]\n",
      "\u001b[0;31mTypeError\u001b[0m: Cannot use method 'nsmallest' with dtype object"
     ]
    }
   ],
   "source": [
    "# checking min parameters\n",
    "for col in df.columns:\n",
    "    bottom_5 = df[col].nsmallest(5)\n",
    "    print(f'Bottom 5 smallest values in column {col}:')\n",
    "    print(bottom_5)"
   ]
  },
  {
   "cell_type": "code",
   "execution_count": 34,
   "id": "6efb5b14-cff7-42b0-8a01-d3cf37c9a5c8",
   "metadata": {},
   "outputs": [
    {
     "data": {
      "image/png": "[encoded data removed]",
      "text/plain": [
       "<Figure size 1600x600 with 8 Axes>"
      ]
     },
     "metadata": {},
     "output_type": "display_data"
    }
   ],
   "source": [
    "plt.figure(figsize=(16, 6))\n",
    "\n",
    "for i, col in enumerate(df.columns):\n",
    "\n",
    "    # i starts at 0, but plot nos should start at 1\n",
    "    plot_number = i + 1 \n",
    "\n",
    "    # Create subplot.\n",
    "    plt.subplot(2, 4, plot_number)\n",
    "\n",
    "    # Title with column name.\n",
    "    plt.title(col)\n",
    "\n",
    "    # Display boxplot for column.\n",
    "    plt.hist(df[col])\n",
    "\n",
    "plt.show()"
   ]
  },
  {
   "cell_type": "code",
   "execution_count": 36,
   "id": "13ae1b4d-8eee-4d3c-9073-1805397410f6",
   "metadata": {},
   "outputs": [
    {
     "name": "stdout",
     "output_type": "stream",
     "text": [
      "bedroomcnt\n"
     ]
    },
    {
     "data": {
      "image/png": "[encoded data removed]",
      "text/plain": [
       "<Figure size 640x480 with 1 Axes>"
      ]
     },
     "metadata": {},
     "output_type": "display_data"
    },
    {
     "name": "stdout",
     "output_type": "stream",
     "text": [
      "0        43\n",
      "1       487\n",
      "2      7621\n",
      "3     21005\n",
      "4     12208\n",
      "5      2360\n",
      "6       316\n",
      "7        43\n",
      "8         8\n",
      "9         5\n",
      "10        1\n",
      "11        1\n",
      "Name: bedroomcnt, dtype: int64\n",
      "\n",
      "bathroomcnt\n"
     ]
    },
    {
     "data": {
      "image/png": "[encoded data removed]",
      "text/plain": [
       "<Figure size 640x480 with 1 Axes>"
      ]
     },
     "metadata": {},
     "output_type": "display_data"
    },
    {
     "name": "stdout",
     "output_type": "stream",
     "text": [
      "0.0        29\n",
      "1.0      9034\n",
      "1.5       820\n",
      "2.0     20465\n",
      "2.5      3508\n",
      "3.0      8507\n",
      "3.5       376\n",
      "4.0      1023\n",
      "4.5       102\n",
      "5.0       181\n",
      "5.5         9\n",
      "6.0        30\n",
      "6.5         2\n",
      "7.0         7\n",
      "7.5         1\n",
      "8.0         2\n",
      "9.0         1\n",
      "10.0        1\n",
      "Name: bathroomcnt, dtype: int64\n",
      "\n",
      "finished_sf\n"
     ]
    },
    {
     "data": {
      "image/png": "[encoded data removed]",
      "text/plain": [
       "<Figure size 640x480 with 1 Axes>"
      ]
     },
     "metadata": {},
     "output_type": "display_data"
    },
    {
     "name": "stdout",
     "output_type": "stream",
     "text": [
      "128     1\n",
      "152     1\n",
      "240     1\n",
      "288     1\n",
      "300     1\n",
      "       ..\n",
      "6756    1\n",
      "6868    1\n",
      "7524    1\n",
      "7942    1\n",
      "7970    1\n",
      "Name: finished_sf, Length: 3372, dtype: int64\n",
      "\n",
      "taxvalue\n"
     ]
    },
    {
     "data": {
      "image/png": "[encoded data removed]",
      "text/plain": [
       "<Figure size 640x480 with 1 Axes>"
      ]
     },
     "metadata": {},
     "output_type": "display_data"
    },
    {
     "name": "stdout",
     "output_type": "stream",
     "text": [
      "25836     1\n",
      "25837     1\n",
      "25875     1\n",
      "26038     2\n",
      "26040     1\n",
      "         ..\n",
      "837580    1\n",
      "837581    3\n",
      "837618    1\n",
      "837622    1\n",
      "837688    1\n",
      "Name: taxvalue, Length: 32245, dtype: int64\n",
      "\n",
      "garagecarcnt\n"
     ]
    },
    {
     "data": {
      "image/png": "[encoded data removed]",
      "text/plain": [
       "<Figure size 640x480 with 1 Axes>"
      ]
     },
     "metadata": {},
     "output_type": "display_data"
    },
    {
     "name": "stdout",
     "output_type": "stream",
     "text": [
      "0    29341\n",
      "1     2025\n",
      "2    12417\n",
      "3      239\n",
      "4       59\n",
      "5        8\n",
      "6        4\n",
      "7        3\n",
      "8        1\n",
      "9        1\n",
      "Name: garagecarcnt, dtype: int64\n",
      "\n",
      "lotsize_sf\n"
     ]
    },
    {
     "data": {
      "image/png": "[encoded data removed]",
      "text/plain": [
       "<Figure size 640x480 with 1 Axes>"
      ]
     },
     "metadata": {},
     "output_type": "display_data"
    },
    {
     "name": "stdout",
     "output_type": "stream",
     "text": [
      "236      1\n",
      "480      1\n",
      "540      8\n",
      "592      1\n",
      "594      1\n",
      "        ..\n",
      "74430    1\n",
      "74664    1\n",
      "74764    1\n",
      "74805    1\n",
      "74922    1\n",
      "Name: lotsize_sf, Length: 11697, dtype: int64\n",
      "\n",
      "yearbuilt\n"
     ]
    },
    {
     "data": {
      "image/png": "[encoded data removed]",
      "text/plain": [
       "<Figure size 640x480 with 1 Axes>"
      ]
     },
     "metadata": {},
     "output_type": "display_data"
    },
    {
     "name": "stdout",
     "output_type": "stream",
     "text": [
      "1878       1\n",
      "1880       1\n",
      "1882       1\n",
      "1885       4\n",
      "1887       1\n",
      "1888       3\n",
      "1890       7\n",
      "1893       2\n",
      "1894       1\n",
      "1895      10\n",
      "1896       5\n",
      "1897       1\n",
      "1898       6\n",
      "1899       3\n",
      "1900       9\n",
      "1901      13\n",
      "1902      10\n",
      "1903      16\n",
      "1904      17\n",
      "1905      56\n",
      "1906      48\n",
      "1907      37\n",
      "1908      53\n",
      "1909      59\n",
      "1910     109\n",
      "1911      86\n",
      "1912     116\n",
      "1913      89\n",
      "1914      69\n",
      "1915      71\n",
      "1916      34\n",
      "1917      40\n",
      "1918      45\n",
      "1919      61\n",
      "1920     154\n",
      "1921     175\n",
      "1922     330\n",
      "1923     447\n",
      "1924     420\n",
      "1925     391\n",
      "1926     332\n",
      "1927     277\n",
      "1928     265\n",
      "1929     210\n",
      "1930     149\n",
      "1931      95\n",
      "1932      68\n",
      "1933      42\n",
      "1934      44\n",
      "1935      93\n",
      "1936     177\n",
      "1937     208\n",
      "1938     300\n",
      "1939     357\n",
      "1940     439\n",
      "1941     440\n",
      "1942     292\n",
      "1943     144\n",
      "1944     288\n",
      "1945     147\n",
      "1946     340\n",
      "1947     888\n",
      "1948     813\n",
      "1949     866\n",
      "1950    1492\n",
      "1951    1047\n",
      "1952    1089\n",
      "1953    1374\n",
      "1954    1425\n",
      "1955    1800\n",
      "1956    1261\n",
      "1957     914\n",
      "1958     713\n",
      "1959     955\n",
      "1960     790\n",
      "1961     744\n",
      "1962     911\n",
      "1963     936\n",
      "1964    1172\n",
      "1965     887\n",
      "1966     493\n",
      "1967     366\n",
      "1968     568\n",
      "1969     552\n",
      "1970     420\n",
      "1971     529\n",
      "1972     643\n",
      "1973     640\n",
      "1974     379\n",
      "1975     328\n",
      "1976     654\n",
      "1977     707\n",
      "1978     538\n",
      "1979     510\n",
      "1980     358\n",
      "1981     244\n",
      "1982     116\n",
      "1983     248\n",
      "1984     368\n",
      "1985     409\n",
      "1986     508\n",
      "1987     561\n",
      "1988     402\n",
      "1989     663\n",
      "1990     446\n",
      "1991     180\n",
      "1992     259\n",
      "1993     214\n",
      "1994     276\n",
      "1995     249\n",
      "1996     229\n",
      "1997     261\n",
      "1998     222\n",
      "1999     277\n",
      "2000     287\n",
      "2001     319\n",
      "2002     250\n",
      "2003     258\n",
      "2004     270\n",
      "2005     298\n",
      "2006     244\n",
      "2007     170\n",
      "2008      70\n",
      "2009      47\n",
      "2010      55\n",
      "2011      42\n",
      "2012      46\n",
      "2013      60\n",
      "2014      51\n",
      "2015      28\n",
      "2016       1\n",
      "Name: yearbuilt, dtype: int64\n",
      "\n"
     ]
    }
   ],
   "source": [
    "for col in df.columns[:-1]:\n",
    "    print(col)\n",
    "    sns.boxplot(data=df, x=col)\n",
    "    plt.show()\n",
    "    \n",
    "    print(df[col].value_counts().sort_index())\n",
    "    print()"
   ]
  },
  {
   "cell_type": "code",
   "execution_count": 37,
   "id": "b854a8e7-a0dc-41be-8bbb-635e02835649",
   "metadata": {},
   "outputs": [],
   "source": [
    "train, validate, test = wra.split_data(df)"
   ]
  },
  {
   "cell_type": "code",
   "execution_count": 42,
   "id": "13718ca7-83d9-4991-aa54-69bd19a2e23f",
   "metadata": {},
   "outputs": [
    {
     "name": "stdout",
     "output_type": "stream",
     "text": [
      "(26458, 8)\n",
      "(8820, 8)\n",
      "(8820, 8)\n"
     ]
    }
   ],
   "source": [
    "print (f'''{train.shape}\n",
    "{validate.shape}\n",
    "{test.shape}''')"
   ]
  },
  {
   "cell_type": "markdown",
   "id": "28644eec-96e1-420d-a6ed-193a38c85bd9",
   "metadata": {},
   "source": [
    "## Scale Data"
   ]
  },
  {
   "cell_type": "code",
   "execution_count": 43,
   "id": "65ba2416-6647-4273-8b46-4d5a5b884dbd",
   "metadata": {},
   "outputs": [],
   "source": [
    "to_scale = ['bedroomcnt', 'bathroomcnt', 'finished_sf', 'garagecarcnt', 'lotsize_sf', 'yearbuilt']"
   ]
  },
  {
   "cell_type": "code",
   "execution_count": 44,
   "id": "d492b272-c816-4c60-b93b-58065cd2ce14",
   "metadata": {},
   "outputs": [
    {
     "data": {
      "text/plain": [
       "(       bedroomcnt  bathroomcnt  finished_sf  taxvalue  garagecarcnt  \\\n",
       " 28498    0.272727         0.20     0.130663    306867      0.000000   \n",
       " 33158    0.272727         0.10     0.117993     43277      0.000000   \n",
       " 12088    0.363636         0.35     0.409393    828516      0.333333   \n",
       " 900      0.272727         0.20     0.121833    367613      0.000000   \n",
       " 44834    0.181818         0.10     0.129511    410000      0.111111   \n",
       " ...           ...          ...          ...       ...           ...   \n",
       " 30576    0.272727         0.15     0.126952    189649      0.111111   \n",
       " 23510    0.363636         0.30     0.294599    790000      0.000000   \n",
       " 18845    0.272727         0.20     0.163297    436897      0.111111   \n",
       " 42760    0.272727         0.20     0.139237    163848      0.000000   \n",
       " 38659    0.272727         0.30     0.343742    650609      0.222222   \n",
       " \n",
       "        lotsize_sf  yearbuilt   county  \n",
       " 28498    0.074847   0.613139       LA  \n",
       " 33158    0.062738   0.474453       LA  \n",
       " 12088    0.275991   0.905109  Ventura  \n",
       " 900      0.076139   0.605839       LA  \n",
       " 44834    0.084359   0.364964   Orange  \n",
       " ...           ...        ...      ...  \n",
       " 30576    0.098486   0.591241   Orange  \n",
       " 23510    0.160619   0.861314       LA  \n",
       " 18845    0.093441   0.547445   Orange  \n",
       " 42760    0.007333   0.635036   Orange  \n",
       " 38659    0.074268   0.817518   Orange  \n",
       " \n",
       " [26458 rows x 8 columns],\n",
       "        bedroomcnt  bathroomcnt  finished_sf  taxvalue  garagecarcnt  \\\n",
       " 6226     0.454545         0.30     0.381879    334700      0.000000   \n",
       " 51368    0.363636         0.20     0.231252    406000      0.000000   \n",
       " 7368     0.363636         0.25     0.275403    342402      0.222222   \n",
       " 31901    0.363636         0.35     0.419503     54618      0.222222   \n",
       " 26841    0.454545         0.30     0.331328    150252      0.000000   \n",
       " ...           ...          ...          ...       ...           ...   \n",
       " 48136    0.363636         0.20     0.124648    785491      0.111111   \n",
       " 37852    0.181818         0.10     0.144996    228848      0.000000   \n",
       " 37405    0.181818         0.10     0.152291    126492      0.000000   \n",
       " 43645    0.181818         0.10     0.123752    560222      0.111111   \n",
       " 29177    0.181818         0.20     0.207320    294488      0.222222   \n",
       " \n",
       "        lotsize_sf  yearbuilt  county  \n",
       " 6226     0.543922   0.919708      LA  \n",
       " 51368    0.070124   0.547445      LA  \n",
       " 7368     0.052015   0.824818  Orange  \n",
       " 31901    0.069828   0.839416      LA  \n",
       " 26841    0.153394   0.664234      LA  \n",
       " ...           ...        ...     ...  \n",
       " 48136    0.068416   0.576642      LA  \n",
       " 37852    0.081655   0.423358      LA  \n",
       " 37405    0.107057   0.525547      LA  \n",
       " 43645    0.077632   0.518248      LA  \n",
       " 29177    0.059038   0.861314      LA  \n",
       " \n",
       " [8820 rows x 8 columns],\n",
       "        bedroomcnt  bathroomcnt  finished_sf  taxvalue  garagecarcnt  \\\n",
       " 6226     0.363636          0.1     0.152547    334700      0.000000   \n",
       " 51368    0.272727          0.1     0.109547    406000      0.000000   \n",
       " 7368     0.272727          0.2     0.140901    342402      0.222222   \n",
       " 31901    0.181818          0.1     0.083440     54618      0.000000   \n",
       " 26841    0.272727          0.2     0.182877    150252      0.000000   \n",
       " ...           ...          ...          ...       ...           ...   \n",
       " 48136    0.272727          0.3     0.280906    785491      0.000000   \n",
       " 37852    0.181818          0.2     0.138085    228848      0.000000   \n",
       " 37405    0.272727          0.2     0.291400    126492      0.000000   \n",
       " 43645    0.272727          0.2     0.134758    560222      0.000000   \n",
       " 29177    0.272727          0.4     0.376888    294488      0.000000   \n",
       " \n",
       "        lotsize_sf  yearbuilt  county  \n",
       " 6226     0.114053   0.510949      LA  \n",
       " 51368    0.066640   0.532847      LA  \n",
       " 7368     0.087992   0.686131  Orange  \n",
       " 31901    0.074255   0.510949      LA  \n",
       " 26841    0.194147   0.664234      LA  \n",
       " ...           ...        ...     ...  \n",
       " 48136    0.060908   0.781022      LA  \n",
       " 37852    0.068470   0.518248      LA  \n",
       " 37405    0.188106   0.525547      LA  \n",
       " 43645    0.076959   0.547445      LA  \n",
       " 29177    0.087709   0.335766      LA  \n",
       " \n",
       " [8820 rows x 8 columns])"
      ]
     },
     "execution_count": 44,
     "metadata": {},
     "output_type": "execute_result"
    }
   ],
   "source": [
    "exp.scale_data(train, validate, test, to_scale)"
   ]
  },
  {
   "cell_type": "code",
   "execution_count": 46,
   "id": "7e9b00ca-c596-4301-b2f9-8194f97e379c",
   "metadata": {},
   "outputs": [],
   "source": [
    "train_scaled, validate_scaled, test_scaled = exp.scale_data(train, validate, test, to_scale)"
   ]
  },
  {
   "cell_type": "code",
   "execution_count": 47,
   "id": "612869d8-f878-4b63-9fde-23de14bfca6f",
   "metadata": {},
   "outputs": [
    {
     "data": {
      "text/html": [
       "<div>\n",
       "<style scoped>\n",
       "    .dataframe tbody tr th:only-of-type {\n",
       "        vertical-align: middle;\n",
       "    }\n",
       "\n",
       "    .dataframe tbody tr th {\n",
       "        vertical-align: top;\n",
       "    }\n",
       "\n",
       "    .dataframe thead th {\n",
       "        text-align: right;\n",
       "    }\n",
       "</style>\n",
       "<table border=\"1\" class=\"dataframe\">\n",
       "  <thead>\n",
       "    <tr style=\"text-align: right;\">\n",
       "      <th></th>\n",
       "      <th>bedroomcnt</th>\n",
       "      <th>bathroomcnt</th>\n",
       "      <th>finished_sf</th>\n",
       "      <th>taxvalue</th>\n",
       "      <th>garagecarcnt</th>\n",
       "      <th>lotsize_sf</th>\n",
       "      <th>yearbuilt</th>\n",
       "      <th>county</th>\n",
       "    </tr>\n",
       "  </thead>\n",
       "  <tbody>\n",
       "    <tr>\n",
       "      <th>28498</th>\n",
       "      <td>0.272727</td>\n",
       "      <td>0.20</td>\n",
       "      <td>0.130663</td>\n",
       "      <td>306867</td>\n",
       "      <td>0.000000</td>\n",
       "      <td>0.074847</td>\n",
       "      <td>0.613139</td>\n",
       "      <td>LA</td>\n",
       "    </tr>\n",
       "    <tr>\n",
       "      <th>33158</th>\n",
       "      <td>0.272727</td>\n",
       "      <td>0.10</td>\n",
       "      <td>0.117993</td>\n",
       "      <td>43277</td>\n",
       "      <td>0.000000</td>\n",
       "      <td>0.062738</td>\n",
       "      <td>0.474453</td>\n",
       "      <td>LA</td>\n",
       "    </tr>\n",
       "    <tr>\n",
       "      <th>12088</th>\n",
       "      <td>0.363636</td>\n",
       "      <td>0.35</td>\n",
       "      <td>0.409393</td>\n",
       "      <td>828516</td>\n",
       "      <td>0.333333</td>\n",
       "      <td>0.275991</td>\n",
       "      <td>0.905109</td>\n",
       "      <td>Ventura</td>\n",
       "    </tr>\n",
       "    <tr>\n",
       "      <th>900</th>\n",
       "      <td>0.272727</td>\n",
       "      <td>0.20</td>\n",
       "      <td>0.121833</td>\n",
       "      <td>367613</td>\n",
       "      <td>0.000000</td>\n",
       "      <td>0.076139</td>\n",
       "      <td>0.605839</td>\n",
       "      <td>LA</td>\n",
       "    </tr>\n",
       "    <tr>\n",
       "      <th>44834</th>\n",
       "      <td>0.181818</td>\n",
       "      <td>0.10</td>\n",
       "      <td>0.129511</td>\n",
       "      <td>410000</td>\n",
       "      <td>0.111111</td>\n",
       "      <td>0.084359</td>\n",
       "      <td>0.364964</td>\n",
       "      <td>Orange</td>\n",
       "    </tr>\n",
       "  </tbody>\n",
       "</table>\n",
       "</div>"
      ],
      "text/plain": [
       "       bedroomcnt  bathroomcnt  finished_sf  taxvalue  garagecarcnt  \\\n",
       "28498    0.272727         0.20     0.130663    306867      0.000000   \n",
       "33158    0.272727         0.10     0.117993     43277      0.000000   \n",
       "12088    0.363636         0.35     0.409393    828516      0.333333   \n",
       "900      0.272727         0.20     0.121833    367613      0.000000   \n",
       "44834    0.181818         0.10     0.129511    410000      0.111111   \n",
       "\n",
       "       lotsize_sf  yearbuilt   county  \n",
       "28498    0.074847   0.613139       LA  \n",
       "33158    0.062738   0.474453       LA  \n",
       "12088    0.275991   0.905109  Ventura  \n",
       "900      0.076139   0.605839       LA  \n",
       "44834    0.084359   0.364964   Orange  "
      ]
     },
     "execution_count": 47,
     "metadata": {},
     "output_type": "execute_result"
    }
   ],
   "source": [
    "train_scaled.head()"
   ]
  },
  {
   "cell_type": "code",
   "execution_count": 48,
   "id": "89505066-9a2e-4874-92ce-507e72ba53c7",
   "metadata": {},
   "outputs": [
    {
     "ename": "ValueError",
     "evalue": "Cannot take a larger sample than population when 'replace=False'",
     "output_type": "error",
     "traceback": [
      "\u001b[0;31m---------------------------------------------------------------------------\u001b[0m",
      "\u001b[0;31mValueError\u001b[0m                                Traceback (most recent call last)",
      "Input \u001b[0;32mIn [48]\u001b[0m, in \u001b[0;36m<cell line: 1>\u001b[0;34m()\u001b[0m\n\u001b[0;32m----> 1\u001b[0m \u001b[43mexp\u001b[49m\u001b[38;5;241;43m.\u001b[39;49m\u001b[43mplot_variable_pairs\u001b[49m\u001b[43m(\u001b[49m\u001b[43mdf\u001b[49m\u001b[43m)\u001b[49m\n",
      "File \u001b[0;32m~/codeup-data-science/project2_zillow/explore.py:24\u001b[0m, in \u001b[0;36mplot_variable_pairs\u001b[0;34m(df)\u001b[0m\n\u001b[1;32m     23\u001b[0m \u001b[38;5;28;01mdef\u001b[39;00m \u001b[38;5;21mplot_variable_pairs\u001b[39m(df):\n\u001b[0;32m---> 24\u001b[0m     sns\u001b[38;5;241m.\u001b[39mpairplot(\u001b[43mdf\u001b[49m\u001b[38;5;241;43m.\u001b[39;49m\u001b[43msample\u001b[49m\u001b[43m(\u001b[49m\u001b[38;5;241;43m100000\u001b[39;49m\u001b[43m)\u001b[49m, corner\u001b[38;5;241m=\u001b[39m\u001b[38;5;28;01mTrue\u001b[39;00m, kind\u001b[38;5;241m=\u001b[39m\u001b[38;5;124m'\u001b[39m\u001b[38;5;124mreg\u001b[39m\u001b[38;5;124m'\u001b[39m)\n\u001b[1;32m     25\u001b[0m     plt\u001b[38;5;241m.\u001b[39mshow()\n",
      "File \u001b[0;32m/opt/homebrew/anaconda3/lib/python3.9/site-packages/pandas/core/generic.py:5446\u001b[0m, in \u001b[0;36mNDFrame.sample\u001b[0;34m(self, n, frac, replace, weights, random_state, axis, ignore_index)\u001b[0m\n\u001b[1;32m   5443\u001b[0m \u001b[38;5;28;01mif\u001b[39;00m weights \u001b[38;5;129;01mis\u001b[39;00m \u001b[38;5;129;01mnot\u001b[39;00m \u001b[38;5;28;01mNone\u001b[39;00m:\n\u001b[1;32m   5444\u001b[0m     weights \u001b[38;5;241m=\u001b[39m sample\u001b[38;5;241m.\u001b[39mpreprocess_weights(\u001b[38;5;28mself\u001b[39m, weights, axis)\n\u001b[0;32m-> 5446\u001b[0m sampled_indices \u001b[38;5;241m=\u001b[39m \u001b[43msample\u001b[49m\u001b[38;5;241;43m.\u001b[39;49m\u001b[43msample\u001b[49m\u001b[43m(\u001b[49m\u001b[43mobj_len\u001b[49m\u001b[43m,\u001b[49m\u001b[43m \u001b[49m\u001b[43msize\u001b[49m\u001b[43m,\u001b[49m\u001b[43m \u001b[49m\u001b[43mreplace\u001b[49m\u001b[43m,\u001b[49m\u001b[43m \u001b[49m\u001b[43mweights\u001b[49m\u001b[43m,\u001b[49m\u001b[43m \u001b[49m\u001b[43mrs\u001b[49m\u001b[43m)\u001b[49m\n\u001b[1;32m   5447\u001b[0m result \u001b[38;5;241m=\u001b[39m \u001b[38;5;28mself\u001b[39m\u001b[38;5;241m.\u001b[39mtake(sampled_indices, axis\u001b[38;5;241m=\u001b[39maxis)\n\u001b[1;32m   5449\u001b[0m \u001b[38;5;28;01mif\u001b[39;00m ignore_index:\n",
      "File \u001b[0;32m/opt/homebrew/anaconda3/lib/python3.9/site-packages/pandas/core/sample.py:150\u001b[0m, in \u001b[0;36msample\u001b[0;34m(obj_len, size, replace, weights, random_state)\u001b[0m\n\u001b[1;32m    147\u001b[0m     \u001b[38;5;28;01melse\u001b[39;00m:\n\u001b[1;32m    148\u001b[0m         \u001b[38;5;28;01mraise\u001b[39;00m \u001b[38;5;167;01mValueError\u001b[39;00m(\u001b[38;5;124m\"\u001b[39m\u001b[38;5;124mInvalid weights: weights sum to zero\u001b[39m\u001b[38;5;124m\"\u001b[39m)\n\u001b[0;32m--> 150\u001b[0m \u001b[38;5;28;01mreturn\u001b[39;00m \u001b[43mrandom_state\u001b[49m\u001b[38;5;241;43m.\u001b[39;49m\u001b[43mchoice\u001b[49m\u001b[43m(\u001b[49m\u001b[43mobj_len\u001b[49m\u001b[43m,\u001b[49m\u001b[43m \u001b[49m\u001b[43msize\u001b[49m\u001b[38;5;241;43m=\u001b[39;49m\u001b[43msize\u001b[49m\u001b[43m,\u001b[49m\u001b[43m \u001b[49m\u001b[43mreplace\u001b[49m\u001b[38;5;241;43m=\u001b[39;49m\u001b[43mreplace\u001b[49m\u001b[43m,\u001b[49m\u001b[43m \u001b[49m\u001b[43mp\u001b[49m\u001b[38;5;241;43m=\u001b[39;49m\u001b[43mweights\u001b[49m\u001b[43m)\u001b[49m\u001b[38;5;241m.\u001b[39mastype(\n\u001b[1;32m    151\u001b[0m     np\u001b[38;5;241m.\u001b[39mintp, copy\u001b[38;5;241m=\u001b[39m\u001b[38;5;28;01mFalse\u001b[39;00m\n\u001b[1;32m    152\u001b[0m )\n",
      "File \u001b[0;32mmtrand.pyx:965\u001b[0m, in \u001b[0;36mnumpy.random.mtrand.RandomState.choice\u001b[0;34m()\u001b[0m\n",
      "\u001b[0;31mValueError\u001b[0m: Cannot take a larger sample than population when 'replace=False'"
     ]
    }
   ],
   "source": [
    "exp.plot_variable_pairs(df)"
   ]
  },
  {
   "cell_type": "code",
   "execution_count": null,
   "id": "c762dd7b-7732-4e04-9a98-1b580686fe37",
   "metadata": {},
   "outputs": [],
   "source": []
  }
 ],
 "metadata": {
  "kernelspec": {
   "display_name": "Python 3 (ipykernel)",
   "language": "python",
   "name": "python3"
  },
  "language_info": {
   "codemirror_mode": {
    "name": "ipython",
    "version": 3
   },
   "file_extension": ".py",
   "mimetype": "text/x-python",
   "name": "python",
   "nbconvert_exporter": "python",
   "pygments_lexer": "ipython3",
   "version": "3.9.13"
  }
 },
 "nbformat": 4,
 "nbformat_minor": 5
}
