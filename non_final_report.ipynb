{
 "cells": [
  {
   "cell_type": "code",
   "execution_count": null,
   "id": "8f2f4db2-a71c-4e2a-a1eb-f06558b73967",
   "metadata": {},
   "outputs": [],
   "source": [
    "# necessary imports\n",
    "import numpy as np\n",
    "import os\n",
    "import seaborn as sns\n",
    "import scipy.stats as stat\n",
    "import pandas as pd\n",
    "import matplotlib.pyplot as plt\n",
    "from pydataset import data\n",
    "import warnings\n",
    "warnings.filterwarnings(\"ignore\")\n",
    "import wrangle as wra\n",
    "import env\n",
    "from sklearn.model_selection import train_test_split"
   ]
  },
  {
   "cell_type": "code",
   "execution_count": null,
   "id": "5154797d-d0f6-436d-ab6f-b1125e6b6fc8",
   "metadata": {},
   "outputs": [],
   "source": [
    "# build query and look at data\n",
    "zillow_query = \"\"\"\n",
    "        select bedroomcnt, bathroomcnt, calculatedfinishedsquarefeet, taxvaluedollarcnt, garagecarcnt, lotsizesquarefeet, yearbuilt, fips\n",
    "        from properties_2017\n",
    "        join predictions_2017 using (parcelid)\n",
    "        where propertylandusetypeid = '261'\n",
    "    and transactiondate like '%2017%';\n",
    "        \"\"\"\n",
    "\n",
    "zillow_df = wra.get_zillow_data(zillow_query)\n",
    "\n",
    "zillow_df.head()"
   ]
  },
  {
   "cell_type": "code",
   "execution_count": null,
   "id": "6995153f-168f-4c0e-8e5d-b0d1714a1d6d",
   "metadata": {},
   "outputs": [],
   "source": []
  },
  {
   "cell_type": "code",
   "execution_count": null,
   "id": "e7886ee1-0f36-40ea-a2ae-54562d3b46de",
   "metadata": {},
   "outputs": [],
   "source": []
  },
  {
   "cell_type": "code",
   "execution_count": null,
   "id": "c8c4b47b-cdb7-4cf5-a8dc-759f61d4d774",
   "metadata": {},
   "outputs": [],
   "source": []
  },
  {
   "cell_type": "code",
   "execution_count": null,
   "id": "b44c3e53-a371-4066-9b37-ee0ae8b0d8a0",
   "metadata": {},
   "outputs": [],
   "source": []
  }
 ],
 "metadata": {
  "kernelspec": {
   "display_name": "Python 3 (ipykernel)",
   "language": "python",
   "name": "python3"
  },
  "language_info": {
   "codemirror_mode": {
    "name": "ipython",
    "version": 3
   },
   "file_extension": ".py",
   "mimetype": "text/x-python",
   "name": "python",
   "nbconvert_exporter": "python",
   "pygments_lexer": "ipython3",
   "version": "3.9.13"
  }
 },
 "nbformat": 4,
 "nbformat_minor": 5
}
